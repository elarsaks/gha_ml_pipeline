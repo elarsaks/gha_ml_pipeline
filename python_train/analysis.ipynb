{
 "cells": [
  {
   "cell_type": "markdown",
   "id": "9f75c934",
   "metadata": {},
   "source": [
    "# Fear &amp; Greed Index vs BTC Price Analysis\n",
    "\n",
    "This notebook loads the processed dataset, fits a linear regression model (using the same logic as the training script), and visualizes the relationship between the fear &amp; greed index, BTC price, and the model's predicted price."
   ]
  },
  {
   "cell_type": "code",
   "execution_count": 1,
   "id": "ce547ba1",
   "metadata": {},
   "outputs": [
    {
     "ename": "ModuleNotFoundError",
     "evalue": "No module named 'polars'",
     "output_type": "error",
     "traceback": [
      "\u001b[0;31m---------------------------------------------------------------------------\u001b[0m",
      "\u001b[0;31mModuleNotFoundError\u001b[0m                       Traceback (most recent call last)",
      "Cell \u001b[0;32mIn[1], line 2\u001b[0m\n\u001b[1;32m      1\u001b[0m \u001b[38;5;66;03m# Import libraries\u001b[39;00m\n\u001b[0;32m----> 2\u001b[0m \u001b[38;5;28;01mimport\u001b[39;00m \u001b[38;5;21;01mpolars\u001b[39;00m \u001b[38;5;28;01mas\u001b[39;00m \u001b[38;5;21;01mpl\u001b[39;00m\n\u001b[1;32m      3\u001b[0m \u001b[38;5;28;01mimport\u001b[39;00m \u001b[38;5;21;01mnumpy\u001b[39;00m \u001b[38;5;28;01mas\u001b[39;00m \u001b[38;5;21;01mnp\u001b[39;00m\n\u001b[1;32m      4\u001b[0m \u001b[38;5;28;01mimport\u001b[39;00m \u001b[38;5;21;01mmatplotlib\u001b[39;00m\u001b[38;5;21;01m.\u001b[39;00m\u001b[38;5;21;01mpyplot\u001b[39;00m \u001b[38;5;28;01mas\u001b[39;00m \u001b[38;5;21;01mplt\u001b[39;00m\n",
      "\u001b[0;31mModuleNotFoundError\u001b[0m: No module named 'polars'"
     ]
    }
   ],
   "source": [
    "# Import libraries\n",
    "import polars as pl\n",
    "import numpy as np\n",
    "import matplotlib.pyplot as plt\n",
    "from sklearn.linear_model import LinearRegression\n",
    "from pathlib import Path\n"
   ]
  },
  {
   "cell_type": "code",
   "execution_count": null,
   "id": "3b3b1711",
   "metadata": {},
   "outputs": [],
   "source": [
    "# Load the processed data\n",
    "repo_root = Path(__file__).resolve().parents[1]\n",
    "data_path = repo_root / \"..\" / \"data\" / \"processed\" / \"fear_and_greed_history_5min.parquet\"\n",
    "df = pl.read_parquet(data_path).drop_nulls()\n",
    "df = df.with_columns([\n",
    "    pl.col(\"open_actual_value\").cast(pl.Float64),\n",
    "    pl.col(\"close_bitcoin_price_usd\").cast(pl.Float64)\n",
    "])\n",
    "df = df.filter(~pl.col(\"open_actual_value\").is_null() & ~pl.col(\"close_bitcoin_price_usd\").is_null())\n",
    "df = df.sort(\"timestamp\")\n",
    "df.head()\n"
   ]
  },
  {
   "cell_type": "markdown",
   "id": "884c00e9",
   "metadata": {},
   "source": [
    "## Fit Linear Regression Model (reuse training logic)\n",
    "\n",
    "We use the same features as in the training script to fit a model and generate predictions."
   ]
  },
  {
   "cell_type": "code",
   "execution_count": null,
   "id": "dcd32723",
   "metadata": {},
   "outputs": [],
   "source": [
    "# Prepare features and target\n",
    "feature_cols = [\n",
    "    \"open_actual_value\",\n",
    "    \"open_bitcoin_price_usd\",\n",
    "    \"high_bitcoin_price_usd\",\n",
    "    \"low_bitcoin_price_usd\",\n",
    "    \"avg_actual_value\",\n",
    "]\n",
    "X = df.select(feature_cols).to_numpy()\n",
    "y = df[\"close_bitcoin_price_usd\"].to_numpy()\n",
    "\n",
    "# Fit model\n",
    "model = LinearRegression()\n",
    "model.fit(X, y)\n",
    "\n",
    "# Predict\n",
    "df = df.with_columns([\n",
    "    pl.Series(\"predicted_price\", model.predict(X))\n",
    "])\n",
    "df.head()\n"
   ]
  },
  {
   "cell_type": "markdown",
   "id": "de6a5816",
   "metadata": {},
   "source": [
    "## Visualize: Fear &amp; Greed Index vs BTC Price vs Predicted Price"
   ]
  },
  {
   "cell_type": "code",
   "execution_count": null,
   "id": "f900c52f",
   "metadata": {},
   "outputs": [],
   "source": [
    "plt.figure(figsize=(14, 6))\n",
    "plt.plot(df[\"timestamp\"].to_list(), df[\"close_bitcoin_price_usd\"].to_list(), label=\"BTC Close Price\", color=\"blue\")\n",
    "plt.plot(df[\"timestamp\"].to_list(), df[\"predicted_price\"].to_list(), label=\"Predicted Price\", color=\"orange\", linestyle=\"--\")\n",
    "plt.plot(df[\"timestamp\"].to_list(), df[\"open_actual_value\"].to_list(), label=\"Fear & Greed Index (Open)\", color=\"green\", alpha=0.5)\n",
    "plt.legend()\n",
    "plt.title(\"BTC Price, Predicted Price, and Fear & Greed Index Over Time\")\n",
    "plt.xlabel(\"Timestamp\")\n",
    "plt.ylabel(\"Value\")\n",
    "plt.tight_layout()\n",
    "plt.show()\n"
   ]
  },
  {
   "cell_type": "markdown",
   "id": "8e94d36f",
   "metadata": {},
   "source": [
    "## Correlation Analysis\n",
    "\n",
    "Let's check the correlation between the fear &amp; greed index and BTC price."
   ]
  },
  {
   "cell_type": "code",
   "execution_count": null,
   "id": "072abab5",
   "metadata": {},
   "outputs": [],
   "source": [
    "cor_fg_btc = np.corrcoef(df[\"open_actual_value\"].to_numpy(), df[\"close_bitcoin_price_usd\"].to_numpy())[0, 1]\n",
    "cor_pred_btc = np.corrcoef(df[\"predicted_price\"].to_numpy(), df[\"close_bitcoin_price_usd\"].to_numpy())[0, 1]\n",
    "print(f\"Correlation (Fear & Greed, BTC Close): {cor_fg_btc:.3f}\")\n",
    "print(f\"Correlation (Predicted, BTC Close): {cor_pred_btc:.3f}\")\n"
   ]
  }
 ],
 "metadata": {
  "kernelspec": {
   "display_name": "base",
   "language": "python",
   "name": "python3"
  },
  "language_info": {
   "codemirror_mode": {
    "name": "ipython",
    "version": 3
   },
   "file_extension": ".py",
   "mimetype": "text/x-python",
   "name": "python",
   "nbconvert_exporter": "python",
   "pygments_lexer": "ipython3",
   "version": "3.11.7"
  }
 },
 "nbformat": 4,
 "nbformat_minor": 5
}
