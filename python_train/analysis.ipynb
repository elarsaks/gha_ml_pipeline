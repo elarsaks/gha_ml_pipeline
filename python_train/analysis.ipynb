{
 "cells": [
  {
   "cell_type": "code",
   "execution_count": 1,
   "id": "ce547ba1",
   "metadata": {},
   "outputs": [],
   "source": [
    "# Import libraries\n",
    "import polars as pl\n",
    "import numpy as np\n",
    "import matplotlib.pyplot as plt\n",
    "from pathlib import Path\n",
    "import sys\n"
   ]
  },
  {
   "cell_type": "code",
   "execution_count": 2,
   "id": "3b3b1711",
   "metadata": {},
   "outputs": [
    {
     "data": {
      "text/html": [
       "<div><style>\n",
       ".dataframe > thead > tr,\n",
       ".dataframe > tbody > tr {\n",
       "  text-align: right;\n",
       "  white-space: pre-wrap;\n",
       "}\n",
       "</style>\n",
       "<small>shape: (5, 9)</small><table border=\"1\" class=\"dataframe\"><thead><tr><th>avg_actual_value</th><th>close_actual_value</th><th>close_bitcoin_price_usd</th><th>high_bitcoin_price_usd</th><th>interval_end_time</th><th>low_bitcoin_price_usd</th><th>open_actual_value</th><th>open_bitcoin_price_usd</th><th>date</th></tr><tr><td>f64</td><td>f64</td><td>f64</td><td>i64</td><td>str</td><td>i64</td><td>f64</td><td>i64</td><td>date</td></tr></thead><tbody><tr><td>55.71</td><td>55.72</td><td>103319.0</td><td>103319</td><td>&quot;2025-06-20T23:55:00Z&quot;</td><td>103295</td><td>55.72</td><td>103302</td><td>2025-06-20</td></tr><tr><td>55.73</td><td>55.74</td><td>103302.0</td><td>103302</td><td>&quot;2025-06-20T23:50:00Z&quot;</td><td>103284</td><td>55.74</td><td>103284</td><td>2025-06-20</td></tr><tr><td>55.75</td><td>55.76</td><td>103287.0</td><td>103287</td><td>&quot;2025-06-20T23:45:00Z&quot;</td><td>103272</td><td>55.76</td><td>103272</td><td>2025-06-20</td></tr><tr><td>55.73</td><td>55.74</td><td>103270.0</td><td>103276</td><td>&quot;2025-06-20T23:40:00Z&quot;</td><td>103243</td><td>55.74</td><td>103243</td><td>2025-06-20</td></tr><tr><td>55.73</td><td>55.75</td><td>103234.0</td><td>103234</td><td>&quot;2025-06-20T23:35:00Z&quot;</td><td>103196</td><td>55.75</td><td>103196</td><td>2025-06-20</td></tr></tbody></table></div>"
      ],
      "text/plain": [
       "shape: (5, 9)\n",
       "┌───────────┬───────────┬───────────┬───────────┬───┬───────────┬───────────┬───────────┬──────────┐\n",
       "│ avg_actua ┆ close_act ┆ close_bit ┆ high_bitc ┆ … ┆ low_bitco ┆ open_actu ┆ open_bitc ┆ date     │\n",
       "│ l_value   ┆ ual_value ┆ coin_pric ┆ oin_price ┆   ┆ in_price_ ┆ al_value  ┆ oin_price ┆ ---      │\n",
       "│ ---       ┆ ---       ┆ e_usd     ┆ _usd      ┆   ┆ usd       ┆ ---       ┆ _usd      ┆ date     │\n",
       "│ f64       ┆ f64       ┆ ---       ┆ ---       ┆   ┆ ---       ┆ f64       ┆ ---       ┆          │\n",
       "│           ┆           ┆ f64       ┆ i64       ┆   ┆ i64       ┆           ┆ i64       ┆          │\n",
       "╞═══════════╪═══════════╪═══════════╪═══════════╪═══╪═══════════╪═══════════╪═══════════╪══════════╡\n",
       "│ 55.71     ┆ 55.72     ┆ 103319.0  ┆ 103319    ┆ … ┆ 103295    ┆ 55.72     ┆ 103302    ┆ 2025-06- │\n",
       "│           ┆           ┆           ┆           ┆   ┆           ┆           ┆           ┆ 20       │\n",
       "│ 55.73     ┆ 55.74     ┆ 103302.0  ┆ 103302    ┆ … ┆ 103284    ┆ 55.74     ┆ 103284    ┆ 2025-06- │\n",
       "│           ┆           ┆           ┆           ┆   ┆           ┆           ┆           ┆ 20       │\n",
       "│ 55.75     ┆ 55.76     ┆ 103287.0  ┆ 103287    ┆ … ┆ 103272    ┆ 55.76     ┆ 103272    ┆ 2025-06- │\n",
       "│           ┆           ┆           ┆           ┆   ┆           ┆           ┆           ┆ 20       │\n",
       "│ 55.73     ┆ 55.74     ┆ 103270.0  ┆ 103276    ┆ … ┆ 103243    ┆ 55.74     ┆ 103243    ┆ 2025-06- │\n",
       "│           ┆           ┆           ┆           ┆   ┆           ┆           ┆           ┆ 20       │\n",
       "│ 55.73     ┆ 55.75     ┆ 103234.0  ┆ 103234    ┆ … ┆ 103196    ┆ 55.75     ┆ 103196    ┆ 2025-06- │\n",
       "│           ┆           ┆           ┆           ┆   ┆           ┆           ┆           ┆ 20       │\n",
       "└───────────┴───────────┴───────────┴───────────┴───┴───────────┴───────────┴───────────┴──────────┘"
      ]
     },
     "execution_count": 2,
     "metadata": {},
     "output_type": "execute_result"
    }
   ],
   "source": [
    "# Load the data\n",
    "data_path = Path(\"../data/processed/fear_and_greed_history_5min.parquet\")\n",
    "assert data_path.exists(), f\"File not found: {data_path}\"\n",
    "\n",
    "df = pl.read_parquet(data_path).drop_nulls()\n",
    "df = df.with_columns([\n",
    "    pl.col(\"open_actual_value\").cast(pl.Float64),\n",
    "    pl.col(\"close_bitcoin_price_usd\").cast(pl.Float64)\n",
    "])\n",
    "df = df.filter(~pl.col(\"open_actual_value\").is_null() & ~pl.col(\"close_bitcoin_price_usd\").is_null())\n",
    "df = df.sort(\"date\")\n",
    "df.head()\n"
   ]
  },
  {
   "cell_type": "markdown",
   "id": "9f75c934",
   "metadata": {},
   "source": [
    "# Fear &amp; Greed Index vs BTC Price Analysis\n",
    "\n",
    "This notebook loads the processed dataset, fits a linear regression model (using the same logic as the training script), and visualizes the relationship between the fear &amp; greed index, BTC price, and the model's predicted price."
   ]
  },
  {
   "cell_type": "markdown",
   "id": "884c00e9",
   "metadata": {},
   "source": [
    "## Fit Linear Regression Model (reuse training logic)\n",
    "\n",
    "We use the same features as in the training script to fit a model and generate predictions."
   ]
  },
  {
   "cell_type": "code",
   "execution_count": 3,
   "id": "dcd32723",
   "metadata": {},
   "outputs": [
    {
     "data": {
      "text/html": [
       "<div><style>\n",
       ".dataframe > thead > tr,\n",
       ".dataframe > tbody > tr {\n",
       "  text-align: right;\n",
       "  white-space: pre-wrap;\n",
       "}\n",
       "</style>\n",
       "<small>shape: (5, 10)</small><table border=\"1\" class=\"dataframe\"><thead><tr><th>avg_actual_value</th><th>close_actual_value</th><th>close_bitcoin_price_usd</th><th>high_bitcoin_price_usd</th><th>interval_end_time</th><th>low_bitcoin_price_usd</th><th>open_actual_value</th><th>open_bitcoin_price_usd</th><th>date</th><th>predicted_price</th></tr><tr><td>f64</td><td>f64</td><td>f64</td><td>i64</td><td>str</td><td>i64</td><td>f64</td><td>i64</td><td>date</td><td>f64</td></tr></thead><tbody><tr><td>55.71</td><td>55.72</td><td>103319.0</td><td>103319</td><td>&quot;2025-06-20T23:55:00Z&quot;</td><td>103295</td><td>55.72</td><td>103302</td><td>2025-06-20</td><td>103312.139325</td></tr><tr><td>55.73</td><td>55.74</td><td>103302.0</td><td>103302</td><td>&quot;2025-06-20T23:50:00Z&quot;</td><td>103284</td><td>55.74</td><td>103284</td><td>2025-06-20</td><td>103301.585732</td></tr><tr><td>55.75</td><td>55.76</td><td>103287.0</td><td>103287</td><td>&quot;2025-06-20T23:45:00Z&quot;</td><td>103272</td><td>55.76</td><td>103272</td><td>2025-06-20</td><td>103286.572535</td></tr><tr><td>55.73</td><td>55.74</td><td>103270.0</td><td>103276</td><td>&quot;2025-06-20T23:40:00Z&quot;</td><td>103243</td><td>55.74</td><td>103243</td><td>2025-06-20</td><td>103275.792595</td></tr><tr><td>55.73</td><td>55.75</td><td>103234.0</td><td>103234</td><td>&quot;2025-06-20T23:35:00Z&quot;</td><td>103196</td><td>55.75</td><td>103196</td><td>2025-06-20</td><td>103234.366962</td></tr></tbody></table></div>"
      ],
      "text/plain": [
       "shape: (5, 10)\n",
       "┌───────────┬───────────┬───────────┬───────────┬───┬───────────┬───────────┬───────────┬──────────┐\n",
       "│ avg_actua ┆ close_act ┆ close_bit ┆ high_bitc ┆ … ┆ open_actu ┆ open_bitc ┆ date      ┆ predicte │\n",
       "│ l_value   ┆ ual_value ┆ coin_pric ┆ oin_price ┆   ┆ al_value  ┆ oin_price ┆ ---       ┆ d_price  │\n",
       "│ ---       ┆ ---       ┆ e_usd     ┆ _usd      ┆   ┆ ---       ┆ _usd      ┆ date      ┆ ---      │\n",
       "│ f64       ┆ f64       ┆ ---       ┆ ---       ┆   ┆ f64       ┆ ---       ┆           ┆ f64      │\n",
       "│           ┆           ┆ f64       ┆ i64       ┆   ┆           ┆ i64       ┆           ┆          │\n",
       "╞═══════════╪═══════════╪═══════════╪═══════════╪═══╪═══════════╪═══════════╪═══════════╪══════════╡\n",
       "│ 55.71     ┆ 55.72     ┆ 103319.0  ┆ 103319    ┆ … ┆ 55.72     ┆ 103302    ┆ 2025-06-2 ┆ 103312.1 │\n",
       "│           ┆           ┆           ┆           ┆   ┆           ┆           ┆ 0         ┆ 39325    │\n",
       "│ 55.73     ┆ 55.74     ┆ 103302.0  ┆ 103302    ┆ … ┆ 55.74     ┆ 103284    ┆ 2025-06-2 ┆ 103301.5 │\n",
       "│           ┆           ┆           ┆           ┆   ┆           ┆           ┆ 0         ┆ 85732    │\n",
       "│ 55.75     ┆ 55.76     ┆ 103287.0  ┆ 103287    ┆ … ┆ 55.76     ┆ 103272    ┆ 2025-06-2 ┆ 103286.5 │\n",
       "│           ┆           ┆           ┆           ┆   ┆           ┆           ┆ 0         ┆ 72535    │\n",
       "│ 55.73     ┆ 55.74     ┆ 103270.0  ┆ 103276    ┆ … ┆ 55.74     ┆ 103243    ┆ 2025-06-2 ┆ 103275.7 │\n",
       "│           ┆           ┆           ┆           ┆   ┆           ┆           ┆ 0         ┆ 92595    │\n",
       "│ 55.73     ┆ 55.75     ┆ 103234.0  ┆ 103234    ┆ … ┆ 55.75     ┆ 103196    ┆ 2025-06-2 ┆ 103234.3 │\n",
       "│           ┆           ┆           ┆           ┆   ┆           ┆           ┆ 0         ┆ 66962    │\n",
       "└───────────┴───────────┴───────────┴───────────┴───┴───────────┴───────────┴───────────┴──────────┘"
      ]
     },
     "execution_count": 3,
     "metadata": {},
     "output_type": "execute_result"
    }
   ],
   "source": [
    "# Add src directory to sys.path for train import\n",
    "src_path = Path().resolve().parent / \"python_train\" / \"src\"\n",
    "if str(src_path) not in sys.path:\n",
    "    sys.path.insert(0, str(src_path))\n",
    "\n",
    "from train import train_model\n",
    "\n",
    "# Fit model using the reusable function from train.py\n",
    "feature_cols = [\n",
    "    \"open_actual_value\",\n",
    "    \"open_bitcoin_price_usd\",\n",
    "    \"high_bitcoin_price_usd\",\n",
    "    \"low_bitcoin_price_usd\",\n",
    "    \"avg_actual_value\",\n",
    "]\n",
    "\n",
    "model = train_model(df)\n",
    "X = df.select(feature_cols).to_numpy()\n",
    "df = df.with_columns([\n",
    "    pl.Series(\"predicted_price\", model.predict(X))\n",
    "])\n",
    "df.head()\n"
   ]
  },
  {
   "cell_type": "markdown",
   "id": "de6a5816",
   "metadata": {},
   "source": [
    "## Visualize: Fear &amp; Greed Index vs BTC Price vs Predicted Price"
   ]
  },
  {
   "cell_type": "code",
   "execution_count": 4,
   "id": "f900c52f",
   "metadata": {},
   "outputs": [
    {
     "ename": "ColumnNotFoundError",
     "evalue": "\"timestamp\" not found",
     "output_type": "error",
     "traceback": [
      "\u001b[0;31m---------------------------------------------------------------------------\u001b[0m",
      "\u001b[0;31mColumnNotFoundError\u001b[0m                       Traceback (most recent call last)",
      "\u001b[0;32m/var/folders/n5/chnclgwx06ng9skf1f5bc5gr0000gp/T/ipykernel_89458/1273501207.py\u001b[0m in \u001b[0;36m?\u001b[0;34m()\u001b[0m\n\u001b[1;32m      1\u001b[0m \u001b[0mplt\u001b[0m\u001b[0;34m.\u001b[0m\u001b[0mfigure\u001b[0m\u001b[0;34m(\u001b[0m\u001b[0mfigsize\u001b[0m\u001b[0;34m=\u001b[0m\u001b[0;34m(\u001b[0m\u001b[0;36m14\u001b[0m\u001b[0;34m,\u001b[0m \u001b[0;36m6\u001b[0m\u001b[0;34m)\u001b[0m\u001b[0;34m)\u001b[0m\u001b[0;34m\u001b[0m\u001b[0;34m\u001b[0m\u001b[0m\n\u001b[0;32m----> 2\u001b[0;31m \u001b[0mplt\u001b[0m\u001b[0;34m.\u001b[0m\u001b[0mplot\u001b[0m\u001b[0;34m(\u001b[0m\u001b[0mdf\u001b[0m\u001b[0;34m[\u001b[0m\u001b[0;34m\"timestamp\"\u001b[0m\u001b[0;34m]\u001b[0m\u001b[0;34m.\u001b[0m\u001b[0mto_list\u001b[0m\u001b[0;34m(\u001b[0m\u001b[0;34m)\u001b[0m\u001b[0;34m,\u001b[0m \u001b[0mdf\u001b[0m\u001b[0;34m[\u001b[0m\u001b[0;34m\"close_bitcoin_price_usd\"\u001b[0m\u001b[0;34m]\u001b[0m\u001b[0;34m.\u001b[0m\u001b[0mto_list\u001b[0m\u001b[0;34m(\u001b[0m\u001b[0;34m)\u001b[0m\u001b[0;34m,\u001b[0m \u001b[0mlabel\u001b[0m\u001b[0;34m=\u001b[0m\u001b[0;34m\"BTC Close Price\"\u001b[0m\u001b[0;34m,\u001b[0m \u001b[0mcolor\u001b[0m\u001b[0;34m=\u001b[0m\u001b[0;34m\"blue\"\u001b[0m\u001b[0;34m)\u001b[0m\u001b[0;34m\u001b[0m\u001b[0;34m\u001b[0m\u001b[0m\n\u001b[0m\u001b[1;32m      3\u001b[0m \u001b[0mplt\u001b[0m\u001b[0;34m.\u001b[0m\u001b[0mplot\u001b[0m\u001b[0;34m(\u001b[0m\u001b[0mdf\u001b[0m\u001b[0;34m[\u001b[0m\u001b[0;34m\"timestamp\"\u001b[0m\u001b[0;34m]\u001b[0m\u001b[0;34m.\u001b[0m\u001b[0mto_list\u001b[0m\u001b[0;34m(\u001b[0m\u001b[0;34m)\u001b[0m\u001b[0;34m,\u001b[0m \u001b[0mdf\u001b[0m\u001b[0;34m[\u001b[0m\u001b[0;34m\"predicted_price\"\u001b[0m\u001b[0;34m]\u001b[0m\u001b[0;34m.\u001b[0m\u001b[0mto_list\u001b[0m\u001b[0;34m(\u001b[0m\u001b[0;34m)\u001b[0m\u001b[0;34m,\u001b[0m \u001b[0mlabel\u001b[0m\u001b[0;34m=\u001b[0m\u001b[0;34m\"Predicted Price\"\u001b[0m\u001b[0;34m,\u001b[0m \u001b[0mcolor\u001b[0m\u001b[0;34m=\u001b[0m\u001b[0;34m\"orange\"\u001b[0m\u001b[0;34m,\u001b[0m \u001b[0mlinestyle\u001b[0m\u001b[0;34m=\u001b[0m\u001b[0;34m\"--\"\u001b[0m\u001b[0;34m)\u001b[0m\u001b[0;34m\u001b[0m\u001b[0;34m\u001b[0m\u001b[0m\n\u001b[1;32m      4\u001b[0m \u001b[0mplt\u001b[0m\u001b[0;34m.\u001b[0m\u001b[0mplot\u001b[0m\u001b[0;34m(\u001b[0m\u001b[0mdf\u001b[0m\u001b[0;34m[\u001b[0m\u001b[0;34m\"timestamp\"\u001b[0m\u001b[0;34m]\u001b[0m\u001b[0;34m.\u001b[0m\u001b[0mto_list\u001b[0m\u001b[0;34m(\u001b[0m\u001b[0;34m)\u001b[0m\u001b[0;34m,\u001b[0m \u001b[0mdf\u001b[0m\u001b[0;34m[\u001b[0m\u001b[0;34m\"open_actual_value\"\u001b[0m\u001b[0;34m]\u001b[0m\u001b[0;34m.\u001b[0m\u001b[0mto_list\u001b[0m\u001b[0;34m(\u001b[0m\u001b[0;34m)\u001b[0m\u001b[0;34m,\u001b[0m \u001b[0mlabel\u001b[0m\u001b[0;34m=\u001b[0m\u001b[0;34m\"Fear & Greed Index (Open)\"\u001b[0m\u001b[0;34m,\u001b[0m \u001b[0mcolor\u001b[0m\u001b[0;34m=\u001b[0m\u001b[0;34m\"green\"\u001b[0m\u001b[0;34m,\u001b[0m \u001b[0malpha\u001b[0m\u001b[0;34m=\u001b[0m\u001b[0;36m0.5\u001b[0m\u001b[0;34m)\u001b[0m\u001b[0;34m\u001b[0m\u001b[0;34m\u001b[0m\u001b[0m\n\u001b[1;32m      5\u001b[0m \u001b[0mplt\u001b[0m\u001b[0;34m.\u001b[0m\u001b[0mlegend\u001b[0m\u001b[0;34m(\u001b[0m\u001b[0;34m)\u001b[0m\u001b[0;34m\u001b[0m\u001b[0;34m\u001b[0m\u001b[0m\n",
      "\u001b[0;32m/opt/anaconda3/envs/btc_predictor/lib/python3.10/site-packages/polars/dataframe/frame.py\u001b[0m in \u001b[0;36m?\u001b[0;34m(self, key)\u001b[0m\n\u001b[1;32m   1391\u001b[0m         \u001b[0;31m│\u001b[0m \u001b[0;36m2\u001b[0m\u001b[0;31m \u001b[0m\u001b[0;31m \u001b[0m\u001b[0;31m \u001b[0m\u001b[0;31m┆\u001b[0m \u001b[0;36m5\u001b[0m\u001b[0;31m \u001b[0m\u001b[0;31m \u001b[0m\u001b[0;31m \u001b[0m\u001b[0;31m┆\u001b[0m \u001b[0;36m3\u001b[0m\u001b[0;31m \u001b[0m\u001b[0;31m \u001b[0m\u001b[0;31m \u001b[0m\u001b[0;31m│\u001b[0m\u001b[0;34m\u001b[0m\u001b[0;34m\u001b[0m\u001b[0m\n\u001b[1;32m   1392\u001b[0m         \u001b[0;31m│\u001b[0m \u001b[0;36m3\u001b[0m\u001b[0;31m \u001b[0m\u001b[0;31m \u001b[0m\u001b[0;31m \u001b[0m\u001b[0;31m┆\u001b[0m \u001b[0;36m6\u001b[0m\u001b[0;31m \u001b[0m\u001b[0;31m \u001b[0m\u001b[0;31m \u001b[0m\u001b[0;31m┆\u001b[0m \u001b[0;36m2\u001b[0m\u001b[0;31m \u001b[0m\u001b[0;31m \u001b[0m\u001b[0;31m \u001b[0m\u001b[0;31m│\u001b[0m\u001b[0;34m\u001b[0m\u001b[0;34m\u001b[0m\u001b[0m\n\u001b[1;32m   1393\u001b[0m         \u001b[0;31m└\u001b[0m\u001b[0;31m─\u001b[0m\u001b[0;31m─\u001b[0m\u001b[0;31m─\u001b[0m\u001b[0;31m─\u001b[0m\u001b[0;31m─\u001b[0m\u001b[0;31m┴\u001b[0m\u001b[0;31m─\u001b[0m\u001b[0;31m─\u001b[0m\u001b[0;31m─\u001b[0m\u001b[0;31m─\u001b[0m\u001b[0;31m─\u001b[0m\u001b[0;31m┴\u001b[0m\u001b[0;31m─\u001b[0m\u001b[0;31m─\u001b[0m\u001b[0;31m─\u001b[0m\u001b[0;31m─\u001b[0m\u001b[0;31m─\u001b[0m\u001b[0;31m┘\u001b[0m\u001b[0;34m\u001b[0m\u001b[0;34m\u001b[0m\u001b[0m\n\u001b[1;32m   1394\u001b[0m         \"\"\"\n\u001b[0;32m-> 1395\u001b[0;31m         \u001b[0;32mreturn\u001b[0m \u001b[0mget_df_item_by_key\u001b[0m\u001b[0;34m(\u001b[0m\u001b[0mself\u001b[0m\u001b[0;34m,\u001b[0m \u001b[0mkey\u001b[0m\u001b[0;34m)\u001b[0m\u001b[0;34m\u001b[0m\u001b[0;34m\u001b[0m\u001b[0m\n\u001b[0m",
      "\u001b[0;32m/opt/anaconda3/envs/btc_predictor/lib/python3.10/site-packages/polars/_utils/getitem.py\u001b[0m in \u001b[0;36m?\u001b[0;34m(df, key)\u001b[0m\n\u001b[1;32m    159\u001b[0m     \u001b[0;31m# Single string input, e.g. df[\"a\"]\u001b[0m\u001b[0;34m\u001b[0m\u001b[0;34m\u001b[0m\u001b[0m\n\u001b[1;32m    160\u001b[0m     \u001b[0;32mif\u001b[0m \u001b[0misinstance\u001b[0m\u001b[0;34m(\u001b[0m\u001b[0mkey\u001b[0m\u001b[0;34m,\u001b[0m \u001b[0mstr\u001b[0m\u001b[0;34m)\u001b[0m\u001b[0;34m:\u001b[0m\u001b[0;34m\u001b[0m\u001b[0;34m\u001b[0m\u001b[0m\n\u001b[1;32m    161\u001b[0m         \u001b[0;31m# This case is required because empty strings are otherwise treated\u001b[0m\u001b[0;34m\u001b[0m\u001b[0;34m\u001b[0m\u001b[0m\n\u001b[1;32m    162\u001b[0m         \u001b[0;31m# as an empty Sequence in `_select_rows`\u001b[0m\u001b[0;34m\u001b[0m\u001b[0;34m\u001b[0m\u001b[0m\n\u001b[0;32m--> 163\u001b[0;31m         \u001b[0;32mreturn\u001b[0m \u001b[0mdf\u001b[0m\u001b[0;34m.\u001b[0m\u001b[0mget_column\u001b[0m\u001b[0;34m(\u001b[0m\u001b[0mkey\u001b[0m\u001b[0;34m)\u001b[0m\u001b[0;34m\u001b[0m\u001b[0;34m\u001b[0m\u001b[0m\n\u001b[0m\u001b[1;32m    164\u001b[0m \u001b[0;34m\u001b[0m\u001b[0m\n\u001b[1;32m    165\u001b[0m     \u001b[0;31m# Single input - df[1] - or multiple inputs - df[\"a\", \"b\", \"c\"]\u001b[0m\u001b[0;34m\u001b[0m\u001b[0;34m\u001b[0m\u001b[0m\n\u001b[1;32m    166\u001b[0m     \u001b[0;32mtry\u001b[0m\u001b[0;34m:\u001b[0m\u001b[0;34m\u001b[0m\u001b[0;34m\u001b[0m\u001b[0m\n",
      "\u001b[0;32m/opt/anaconda3/envs/btc_predictor/lib/python3.10/site-packages/polars/dataframe/frame.py\u001b[0m in \u001b[0;36m?\u001b[0;34m(self, name, default)\u001b[0m\n\u001b[1;32m   8693\u001b[0m         \u001b[0;32mtry\u001b[0m\u001b[0;34m:\u001b[0m\u001b[0;34m\u001b[0m\u001b[0;34m\u001b[0m\u001b[0m\n\u001b[1;32m   8694\u001b[0m             \u001b[0;32mreturn\u001b[0m \u001b[0mwrap_s\u001b[0m\u001b[0;34m(\u001b[0m\u001b[0mself\u001b[0m\u001b[0;34m.\u001b[0m\u001b[0m_df\u001b[0m\u001b[0;34m.\u001b[0m\u001b[0mget_column\u001b[0m\u001b[0;34m(\u001b[0m\u001b[0mname\u001b[0m\u001b[0;34m)\u001b[0m\u001b[0;34m)\u001b[0m\u001b[0;34m\u001b[0m\u001b[0;34m\u001b[0m\u001b[0m\n\u001b[1;32m   8695\u001b[0m         \u001b[0;32mexcept\u001b[0m \u001b[0mColumnNotFoundError\u001b[0m\u001b[0;34m:\u001b[0m\u001b[0;34m\u001b[0m\u001b[0;34m\u001b[0m\u001b[0m\n\u001b[1;32m   8696\u001b[0m             \u001b[0;32mif\u001b[0m \u001b[0mdefault\u001b[0m \u001b[0;32mis\u001b[0m \u001b[0mno_default\u001b[0m\u001b[0;34m:\u001b[0m\u001b[0;34m\u001b[0m\u001b[0;34m\u001b[0m\u001b[0m\n\u001b[0;32m-> 8697\u001b[0;31m                 \u001b[0;32mraise\u001b[0m\u001b[0;34m\u001b[0m\u001b[0;34m\u001b[0m\u001b[0m\n\u001b[0m\u001b[1;32m   8698\u001b[0m             \u001b[0;32mreturn\u001b[0m \u001b[0mdefault\u001b[0m\u001b[0;34m\u001b[0m\u001b[0;34m\u001b[0m\u001b[0m\n",
      "\u001b[0;31mColumnNotFoundError\u001b[0m: \"timestamp\" not found"
     ]
    },
    {
     "data": {
      "text/plain": [
       "<Figure size 1400x600 with 0 Axes>"
      ]
     },
     "metadata": {},
     "output_type": "display_data"
    }
   ],
   "source": [
    "plt.figure(figsize=(14, 6))\n",
    "plt.plot(df[\"timestamp\"].to_list(), df[\"close_bitcoin_price_usd\"].to_list(), label=\"BTC Close Price\", color=\"blue\")\n",
    "plt.plot(df[\"timestamp\"].to_list(), df[\"predicted_price\"].to_list(), label=\"Predicted Price\", color=\"orange\", linestyle=\"--\")\n",
    "plt.plot(df[\"timestamp\"].to_list(), df[\"open_actual_value\"].to_list(), label=\"Fear & Greed Index (Open)\", color=\"green\", alpha=0.5)\n",
    "plt.legend()\n",
    "plt.title(\"BTC Price, Predicted Price, and Fear & Greed Index Over Time\")\n",
    "plt.xlabel(\"Timestamp\")\n",
    "plt.ylabel(\"Value\")\n",
    "plt.tight_layout()\n",
    "plt.show()\n"
   ]
  },
  {
   "cell_type": "markdown",
   "id": "8e94d36f",
   "metadata": {},
   "source": [
    "## Correlation Analysis\n",
    "\n",
    "Let's check the correlation between the fear &amp; greed index and BTC price."
   ]
  },
  {
   "cell_type": "code",
   "execution_count": null,
   "id": "072abab5",
   "metadata": {},
   "outputs": [],
   "source": [
    "cor_fg_btc = np.corrcoef(df[\"open_actual_value\"].to_numpy(), df[\"close_bitcoin_price_usd\"].to_numpy())[0, 1]\n",
    "cor_pred_btc = np.corrcoef(df[\"predicted_price\"].to_numpy(), df[\"close_bitcoin_price_usd\"].to_numpy())[0, 1]\n",
    "print(f\"Correlation (Fear & Greed, BTC Close): {cor_fg_btc:.3f}\")\n",
    "print(f\"Correlation (Predicted, BTC Close): {cor_pred_btc:.3f}\")\n"
   ]
  }
 ],
 "metadata": {
  "kernelspec": {
   "display_name": "btc_predictor",
   "language": "python",
   "name": "python3"
  },
  "language_info": {
   "codemirror_mode": {
    "name": "ipython",
    "version": 3
   },
   "file_extension": ".py",
   "mimetype": "text/x-python",
   "name": "python",
   "nbconvert_exporter": "python",
   "pygments_lexer": "ipython3",
   "version": "3.10.18"
  }
 },
 "nbformat": 4,
 "nbformat_minor": 5
}
