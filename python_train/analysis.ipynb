{
 "cells": [
  {
   "cell_type": "markdown",
   "id": "38f3d224",
   "metadata": {},
   "source": [
    "# BTC Price Analysis\n",
    "This notebook demonstrates how to visualize the Bitcoin price, the Fear & Greed index, and the predicted price from our simple linear regression model."
   ]
  },
  {
   "cell_type": "code",
   "execution_count": null,
   "id": "7706ec6a",
   "metadata": {},
   "outputs": [],
   "source": [
    "import os\n",
    "import polars as pl\n",
    "import numpy as np\n",
    "import matplotlib.pyplot as plt\n",
    "from sklearn.linear_model import LinearRegression\n"
   ]
  },
  {
   "cell_type": "markdown",
   "id": "74ddeabe",
   "metadata": {},
   "source": [
    "## Check for duplicates in Parquet files"
   ]
  },
  {
   "cell_type": "code",
   "execution_count": 12,
   "id": "f69c636e",
   "metadata": {},
   "outputs": [
    {
     "name": "stdout",
     "output_type": "stream",
     "text": [
      "No duplicates found in Parquet data.\n"
     ]
    },
    {
     "name": "stderr",
     "output_type": "stream",
     "text": [
      "/var/folders/n5/chnclgwx06ng9skf1f5bc5gr0000gp/T/ipykernel_64160/1460134911.py:6: DeprecationWarning: `GroupBy.count` was renamed; use `GroupBy.len` instead\n",
      "  duplicates = df_parquet.group_by('interval_end_time').count().filter(pl.col('count') > 1)\n"
     ]
    }
   ],
   "source": [
    "parquet_path = '../data/processed/fear_and_greed_history_5min.parquet'\n",
    "if not os.path.exists(parquet_path):\n",
    "    print(f\"File not found: {parquet_path}\")\n",
    "else:\n",
    "    df_parquet = pl.read_parquet(parquet_path)\n",
    "    duplicates = df_parquet.group_by('interval_end_time').count().filter(pl.col('count') > 1)\n",
    "    if duplicates.height > 0:\n",
    "        print(f\"Found {duplicates.height} duplicate interval_end_time values in Parquet data.\")\n",
    "        print(duplicates)\n",
    "    else:\n",
    "        print(\"No duplicates found in Parquet data.\")\n",
    "\n"
   ]
  },
  {
   "cell_type": "code",
   "execution_count": null,
   "id": "374b55ea",
   "metadata": {},
   "outputs": [],
   "source": [
    "import matplotlib.pyplot as plt\n",
    "import numpy as np\n",
    "\n",
    "# Load the Parquet data\n",
    "parquet_path = '../data/processed/fear_and_greed_history_5min.parquet'\n",
    "df = pl.read_parquet(parquet_path)\n",
    "\n",
    "# Convert interval_end_time to numpy datetime64 for plotting\n",
    "interval_times = df.select('interval_end_time').to_numpy().flatten()\n",
    "interval_times = np.array(interval_times, dtype='datetime64[ms]')\n",
    "\n",
    "btc_price = df.select('close_bitcoin_price_usd').to_numpy().flatten()\n",
    "fear_greed = df.select('avg_actual_value').to_numpy().flatten()\n",
    "\n",
    "fig, ax1 = plt.subplots(figsize=(12, 6))\n",
    "\n",
    "color = 'tab:blue'\n",
    "ax1.set_xlabel('Interval End Time')\n",
    "ax1.set_ylabel('BTC Price', color=color)\n",
    "ax1.plot(interval_times, btc_price, label='BTC Price', color=color)\n",
    "ax1.tick_params(axis='y', labelcolor=color)\n",
    "ax1.legend(loc='upper left')\n",
    "\n",
    "ax2 = ax1.twinx()\n",
    "color = 'tab:green'\n",
    "ax2.set_ylabel('Fear & Greed Index', color=color)\n",
    "ax2.plot(interval_times, fear_greed, label='Fear & Greed Index', color=color, alpha=0.5)\n",
    "ax2.tick_params(axis='y', labelcolor=color)\n",
    "ax2.legend(loc='upper right')\n",
    "\n",
    "fig.autofmt_xdate()\n",
    "plt.title('BTC Price and Fear & Greed Index Over Time')\n",
    "plt.tight_layout()\n",
    "plt.show()\n"
   ]
  }
 ],
 "metadata": {
  "kernelspec": {
   "display_name": "btc_predictor",
   "language": "python",
   "name": "python3"
  },
  "language_info": {
   "codemirror_mode": {
    "name": "ipython",
    "version": 3
   },
   "file_extension": ".py",
   "mimetype": "text/x-python",
   "name": "python",
   "nbconvert_exporter": "python",
   "pygments_lexer": "ipython3",
   "version": "3.10.18"
  }
 },
 "nbformat": 4,
 "nbformat_minor": 5
}
