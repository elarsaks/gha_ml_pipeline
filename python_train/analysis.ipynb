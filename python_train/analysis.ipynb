{
 "cells": [
  {
   "cell_type": "markdown",
   "id": "38f3d224",
   "metadata": {},
   "source": [
    "# BTC Price Analysis\n",
    "This notebook demonstrates how to visualize the Bitcoin price, the Fear & Greed index, and the predicted price from our simple linear regression model."
   ]
  },
  {
   "cell_type": "code",
   "execution_count": null,
   "id": "7706ec6a",
   "metadata": {},
   "outputs": [],
   "source": [
    "# Import required libraries\n",
    "import polars as pl\n",
    "import numpy as np\n",
    "import matplotlib.pyplot as plt\n",
    "from sklearn.linear_model import LinearRegression\n"
   ]
  },
  {
   "cell_type": "markdown",
   "id": "8d9976c3",
   "metadata": {},
   "source": [
    "## Load the processed data\n",
    "We will load the processed Bitcoin price and Fear & Greed index data from a Parquet file."
   ]
  },
  {
   "cell_type": "code",
   "execution_count": null,
   "id": "b06cdef7",
   "metadata": {},
   "outputs": [],
   "source": [
    "# Load the processed data\n",
    "df = pl.read_parquet('../data/processed/fear_and_greed_history_5min.parquet')\n",
    "df.head()\n"
   ]
  },
  {
   "cell_type": "markdown",
   "id": "f171641e",
   "metadata": {},
   "source": [
    "## Prepare features and target\n",
    "We will use the Fear & Greed index as the feature and the BTC price as the target for our linear regression model. Rows with missing values will be dropped."
   ]
  },
  {
   "cell_type": "code",
   "execution_count": null,
   "id": "93cc6505",
   "metadata": {},
   "outputs": [],
   "source": [
    "# Use correct column names: 'avg_actual_value' for Fear & Greed, 'close_bitcoin_price_usd' for BTC price\n",
    "df = df.drop_nulls(['avg_actual_value', 'close_bitcoin_price_usd'])\n",
    "X = df.select('avg_actual_value').to_numpy()\n",
    "y = df.select('close_bitcoin_price_usd').to_numpy().flatten()\n"
   ]
  },
  {
   "cell_type": "markdown",
   "id": "22f828a0",
   "metadata": {},
   "source": [
    "## Fit the linear regression model\n",
    "We will fit a simple linear regression model to predict BTC price from the Fear & Greed index."
   ]
  },
  {
   "cell_type": "code",
   "execution_count": null,
   "id": "7a41b5ca",
   "metadata": {},
   "outputs": [],
   "source": [
    "# Fit linear regression model (same as train.py)\n",
    "model = LinearRegression()\n",
    "model.fit(X, y)\n",
    "y_pred = model.predict(X)\n"
   ]
  },
  {
   "cell_type": "markdown",
   "id": "bb5a4c2b",
   "metadata": {},
   "source": [
    "## Visualize actual vs predicted BTC prices\n",
    "We will plot the actual BTC prices and the predicted prices from our linear regression model to compare their trends over time."
   ]
  },
  {
   "cell_type": "code",
   "execution_count": null,
   "id": "167e846a",
   "metadata": {},
   "outputs": [],
   "source": [
    "# Plot Fear & Greed index, actual BTC price, and predicted BTC price\n",
    "import matplotlib.dates as mdates\n",
    "\n",
    "interval_times = df.select('interval_end_time').to_numpy().flatten()\n",
    "interval_times = np.array(interval_times, dtype='datetime64[ms]')\n",
    "fear_greed = df.select('avg_actual_value').to_numpy().flatten()\n",
    "\n",
    "fig, ax1 = plt.subplots(figsize=(12, 6))\n",
    "\n",
    "color = 'tab:blue'\n",
    "ax1.set_xlabel('Interval End Time')\n",
    "ax1.set_ylabel('BTC Price', color=color)\n",
    "ax1.plot(interval_times, y, label='Actual BTC Price', color='tab:blue')\n",
    "ax1.plot(interval_times, y_pred, label='Predicted BTC Price', color='tab:orange', linestyle='--')\n",
    "ax1.tick_params(axis='y', labelcolor=color)\n",
    "ax1.legend(loc='upper left')\n",
    "\n",
    "ax2 = ax1.twinx()\n",
    "color = 'tab:green'\n",
    "ax2.set_ylabel('Fear & Greed Index', color=color)\n",
    "ax2.plot(interval_times, fear_greed, label='Fear & Greed Index', color=color, alpha=0.5)\n",
    "ax2.tick_params(axis='y', labelcolor=color)\n",
    "ax2.legend(loc='upper right')\n",
    "\n",
    "fig.autofmt_xdate()\n",
    "plt.title('BTC Price and Fear & Greed Index with Linear Regression Prediction')\n",
    "plt.tight_layout()\n",
    "plt.show()\n"
   ]
  }
 ],
 "metadata": {
  "kernelspec": {
   "display_name": "btc_predictor",
   "language": "python",
   "name": "python3"
  },
  "language_info": {
   "codemirror_mode": {
    "name": "ipython",
    "version": 3
   },
   "file_extension": ".py",
   "mimetype": "text/x-python",
   "name": "python",
   "nbconvert_exporter": "python",
   "pygments_lexer": "ipython3",
   "version": "3.10.18"
  }
 },
 "nbformat": 4,
 "nbformat_minor": 5
}
