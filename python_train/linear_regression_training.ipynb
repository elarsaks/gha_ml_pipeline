{
 "cells": [
  {
   "cell_type": "markdown",
   "id": "c9bfd99a",
   "metadata": {},
   "source": [
    "# Linear Regression Training Notebook\n",
    "\n",
    "This notebook trains a linear regression model to predict the Fear & Greed Index based on Bitcoin price data. It includes automated model versioning for managing challenger and champion models."
   ]
  },
  {
   "cell_type": "code",
   "execution_count": null,
   "id": "26c7a6c1",
   "metadata": {},
   "outputs": [],
   "source": [
    "\n",
    "# Import required libraries\n",
    "import polars as pl\n",
    "from sklearn.linear_model import LinearRegression\n",
    "from sklearn.metrics import mean_squared_error\n",
    "from pathlib import Path\n",
    "import shutil\n",
    "import json\n",
    "from datetime import datetime\n"
   ]
  },
  {
   "cell_type": "code",
   "execution_count": 13,
   "id": "6f122bfd",
   "metadata": {},
   "outputs": [],
   "source": [
    "data_path = '../data/processed/fear_and_greed_history_5min.parquet'\n",
    "df = pl.read_parquet(data_path).sort('interval_end_time')\n",
    "\n",
    "# Prepare data for training\n",
    "X = df.select('close_bitcoin_price_usd').to_numpy()\n",
    "y = df.select('avg_actual_value').to_numpy().flatten()\n",
    "\n",
    "# Train-test split (80%-20% split)\n",
    "split_idx = int(0.8 * len(X))\n",
    "X_train, X_test = X[:split_idx], X[split_idx:]\n",
    "y_train, y_test = y[:split_idx], y[split_idx:]\n"
   ]
  },
  {
   "cell_type": "code",
   "execution_count": 14,
   "id": "28342cdc",
   "metadata": {},
   "outputs": [
    {
     "name": "stdout",
     "output_type": "stream",
     "text": [
      "Mean Squared Error: 9.0430\n"
     ]
    }
   ],
   "source": [
    "\n",
    "# Train Linear Regression model\n",
    "model = LinearRegression()\n",
    "model.fit(X_train, y_train)\n",
    "\n",
    "# Evaluate model\n",
    "y_pred = model.predict(X_test)\n",
    "mse = mean_squared_error(y_test, y_pred)\n",
    "print(f'Mean Squared Error: {mse:.4f}')\n"
   ]
  },
  {
   "cell_type": "code",
   "execution_count": 20,
   "id": "e9a788b6",
   "metadata": {},
   "outputs": [
    {
     "name": "stdout",
     "output_type": "stream",
     "text": [
      "No existing champion model. Saving this model as the champion model.\n"
     ]
    }
   ],
   "source": [
    "\n",
    "# Prepare weights DataFrame\n",
    "weights_df = pl.DataFrame({\n",
    "    'feature': ['intercept', 'btc_price'],\n",
    "    'weight': [model.intercept_, model.coef_[0]]\n",
    "})\n",
    "\n",
    "# Model versioning\n",
    "models_dir = Path('../models')\n",
    "models_dir.mkdir(exist_ok=True)\n",
    "\n",
    "# Save model metadata\n",
    "model_metadata = {\n",
    "    \"version\": datetime.now().strftime(\"%Y%m%d_%H%M%S\"),\n",
    "    \"mse\": mse\n",
    "}\n",
    "\n",
    "model_metadata_path = models_dir / \"model_metadata.json\"\n",
    "\n",
    "# Check if a champion model exists\n",
    "if model_metadata_path.exists():\n",
    "    with open(model_metadata_path, 'r') as f:\n",
    "        champion_metadata = json.load(f)\n",
    "    \n",
    "    if mse < champion_metadata[\"mse\"]:\n",
    "        print(\"New challenger model performs better. Updating champion model.\")\n",
    "        # Backup previous champion model\n",
    "        shutil.copy(models_dir / \"champion_model.csv\", models_dir / f\"backup_{champion_metadata['version']}.csv\")\n",
    "        \n",
    "        # Save new champion model\n",
    "        weights_df.write_csv(models_dir / \"champion_model.csv\")\n",
    "        \n",
    "        # Update metadata\n",
    "        with open(model_metadata_path, 'w') as f:\n",
    "            json.dump(model_metadata, f)\n",
    "    else:\n",
    "        print(\"Challenger model does not outperform champion model. Not updating.\")\n",
    "        weights_df.write_csv(models_dir / f\"challenger_{model_metadata['version']}.csv\")\n",
    "else:\n",
    "    print(\"No existing champion model. Saving this model as the champion model.\")\n",
    "    weights_df.write_csv(models_dir / \"champion_model.csv\")\n",
    "    with open(model_metadata_path, 'w') as f:\n",
    "        json.dump(model_metadata, f)\n"
   ]
  },
  {
   "cell_type": "markdown",
   "id": "13386cd7",
   "metadata": {},
   "source": [
    "### Model Output\n",
    "The model weights are stored in `../../models/`. The champion model is maintained as `champion_model.csv`. If a challenger model performs better, the existing champion model is backed up and replaced."
   ]
  }
 ],
 "metadata": {
  "kernelspec": {
   "display_name": "btc_predictor",
   "language": "python",
   "name": "python3"
  },
  "language_info": {
   "codemirror_mode": {
    "name": "ipython",
    "version": 3
   },
   "file_extension": ".py",
   "mimetype": "text/x-python",
   "name": "python",
   "nbconvert_exporter": "python",
   "pygments_lexer": "ipython3",
   "version": "3.10.18"
  }
 },
 "nbformat": 4,
 "nbformat_minor": 5
}
