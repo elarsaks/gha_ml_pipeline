{
 "cells": [
  {
   "cell_type": "markdown",
   "id": "ab665dde",
   "metadata": {},
   "source": [
    "# BTC Price Prediction with Linear Regression\n",
    "\n",
    "This notebook trains a linear regression model to forecast Bitcoin closing price using the Fear & Greed Index and the previous closing price."
   ]
  },
  {
   "cell_type": "markdown",
   "id": "263a05dd",
   "metadata": {},
   "source": [
    "## Project Setup\n",
    "Import required Python libraries."
   ]
  },
  {
   "cell_type": "code",
   "execution_count": null,
   "id": "df0af11d",
   "metadata": {},
   "outputs": [],
   "source": [
    "import pandas as pd\n",
    "import numpy as np\n",
    "import matplotlib.pyplot as plt\n",
    "import seaborn as sns\n",
    "from sklearn.model_selection import train_test_split\n",
    "from sklearn.linear_model import LinearRegression\n",
    "from sklearn.metrics import mean_squared_error, r2_score\n",
    "import pickle\n",
    "from datetime import datetime\n",
    "import os\n",
    "import sys\n",
    "\n",
    "sys.path.append('./src')\n",
    "from model_io import save_model"
   ]
  },
  {
   "cell_type": "markdown",
   "id": "d8d78e31",
   "metadata": {},
   "source": [
    "## Load and Explore Data\n",
    "Load the processed dataset and perform basic checks."
   ]
  },
  {
   "cell_type": "code",
   "execution_count": null,
   "id": "9010a976",
   "metadata": {},
   "outputs": [],
   "source": [
    "data_path = '../data/processed/fear_and_greed_history_5min.parquet'\n",
    "df = pd.read_parquet(data_path)\n",
    "print(df.head())\n",
    "print(df.info())\n",
    "print(df.describe())\n",
    "print(df.isnull().sum())"
   ]
  },
  {
   "cell_type": "markdown",
   "id": "e502cc5a",
   "metadata": {},
   "source": [
    "## Data Visualization\n",
    "Visualize BTC price trends and its relationship with the Fear & Greed Index."
   ]
  },
  {
   "cell_type": "code",
   "execution_count": null,
   "id": "6f8197d1",
   "metadata": {},
   "outputs": [],
   "source": [
    "plt.figure(figsize=(10,4))\n",
    "sns.lineplot(data=df, x='interval_end_time', y='close_bitcoin_price_usd')\n",
    "plt.title('BTC Close Price Over Time')\n",
    "plt.xticks(rotation=45)\n",
    "plt.tight_layout()\n",
    "plt.show()\n",
    "\n",
    "plt.figure(figsize=(6,4))\n",
    "sns.scatterplot(x='avg_actual_value', y='close_bitcoin_price_usd', data=df)\n",
    "plt.title('Fear & Greed vs BTC Price')\n",
    "plt.tight_layout()\n",
    "plt.show()\n",
    "\n",
    "plt.figure(figsize=(5,4))\n",
    "sns.heatmap(df[['avg_actual_value','close_bitcoin_price_usd']].corr(), annot=True, cmap='coolwarm')\n",
    "plt.title('Correlation Heatmap')\n",
    "plt.show()"
   ]
  },
  {
   "cell_type": "markdown",
   "id": "6f67700c",
   "metadata": {},
   "source": [
    "## Preprocessing\n",
    "Create features and split the data into training and testing sets."
   ]
  },
  {
   "cell_type": "code",
   "execution_count": null,
   "id": "1b23a36c",
   "metadata": {},
   "outputs": [],
   "source": [
    "df['prev_close_price'] = df['close_bitcoin_price_usd'].shift(1)\n",
    "df = df.dropna(subset=['prev_close_price'])\n",
    "\n",
    "X = df[['prev_close_price', 'avg_actual_value']]\n",
    "y = df['close_bitcoin_price_usd']\n",
    "\n",
    "X_train, X_test, y_train, y_test = train_test_split(X, y, test_size=0.2, random_state=42, shuffle=False)"
   ]
  },
  {
   "cell_type": "markdown",
   "id": "c1d25288",
   "metadata": {},
   "source": [
    "## Model Training\n",
    "Train a linear regression model."
   ]
  },
  {
   "cell_type": "code",
   "execution_count": null,
   "id": "73f3b7a3",
   "metadata": {},
   "outputs": [],
   "source": [
    "model = LinearRegression()\n",
    "model.fit(X_train, y_train)"
   ]
  },
  {
   "cell_type": "markdown",
   "id": "dd8c1acc",
   "metadata": {},
   "source": [
    "## Model Evaluation\n",
    "Evaluate the model using Mean Squared Error and R² score."
   ]
  },
  {
   "cell_type": "code",
   "execution_count": null,
   "id": "d139536a",
   "metadata": {},
   "outputs": [],
   "source": [
    "y_pred = model.predict(X_test)\n",
    "mse = mean_squared_error(y_test, y_pred)\n",
    "r2 = r2_score(y_test, y_pred)\n",
    "print(f'MSE: {mse:.2f}')\n",
    "print(f'R^2 Score: {r2:.4f}')"
   ]
  },
  {
   "cell_type": "markdown",
   "id": "e87741b8",
   "metadata": {},
   "source": [
    "## Visualize Results\n",
    "Compare actual vs predicted BTC prices."
   ]
  },
  {
   "cell_type": "code",
   "execution_count": null,
   "id": "6313f898",
   "metadata": {},
   "outputs": [],
   "source": [
    "plt.figure(figsize=(6,6))\n",
    "sns.scatterplot(x=y_test, y=y_pred)\n",
    "plt.plot([y_test.min(), y_test.max()], [y_test.min(), y_test.max()], 'r--')\n",
    "plt.xlabel('Actual Price')\n",
    "plt.ylabel('Predicted Price')\n",
    "plt.title('Actual vs Predicted BTC Price')\n",
    "plt.tight_layout()\n",
    "plt.show()"
   ]
  },
  {
   "cell_type": "markdown",
   "id": "88538544",
   "metadata": {},
   "source": [
    "## Model Versioning\n",
    "Save the trained model with a timestamped filename."
   ]
  },
  {
   "cell_type": "code",
   "execution_count": null,
   "id": "1e151b2f",
   "metadata": {},
   "outputs": [],
   "source": [
    "models_dir = '../models'\n",
    "os.makedirs(models_dir, exist_ok=True)\n",
    "timestamp = datetime.now().strftime('%Y%m%d_%H%M%S')\n",
    "model_path = os.path.join(models_dir, f'linear_model_{timestamp}.pkl')\n",
    "with open(model_path, 'wb') as f:\n",
    "    pickle.dump(model, f)\n",
    "\n",
    "import polars as pl\n",
    "weights_df = pl.DataFrame({\n",
    "    'feature': ['intercept', 'prev_close_price', 'fear_greed_index'],\n",
    "    'weight': [model.intercept_, *model.coef_]\n",
    "})\n",
    "msg = save_model(weights_df, mse, models_dir)\n",
    "print(msg)\n",
    "print(f'Model saved to {model_path}')"
   ]
  }
 ],
 "metadata": {
  "kernelspec": {
   "display_name": "btc_predictor",
   "language": "python",
   "name": "python3"
  }
 },
 "nbformat": 4,
 "nbformat_minor": 5
}
